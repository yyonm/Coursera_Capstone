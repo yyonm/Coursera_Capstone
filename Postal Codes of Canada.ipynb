{
 "cells": [
  {
   "cell_type": "markdown",
   "metadata": {},
   "source": [
    "<h5> Import the libraries </h5>"
   ]
  },
  {
   "cell_type": "code",
   "execution_count": 4,
   "metadata": {},
   "outputs": [],
   "source": [
    "import requests\n",
    "import pandas as pd \n",
    "import numpy as np\n",
    "from bs4 import BeautifulSoup"
   ]
  },
  {
   "cell_type": "markdown",
   "metadata": {},
   "source": [
    "<p> I define an array, URL and the HTML parser, </br>\n",
    "    look for the table and iterated for each row and </br>\n",
    "    value to append to the postal_codes array </p>\n",
    "    \n",
    "<p> After that I cast the array to a Data Frame Pandas, </br>\n",
    "    Rename the columns, filtered for 'Not assigned' in Borough column </br>    \n",
    "    Join the values through semi colon </br>\n",
    "    Reset index data frame\n",
    "    Update the Neighbourhood column for the Borough </p>"
   ]
  },
  {
   "cell_type": "code",
   "execution_count": 36,
   "metadata": {},
   "outputs": [],
   "source": [
    "postal_codes_array = []\n",
    "req = requests.get('https://en.wikipedia.org/wiki/List_of_postal_codes_of_Canada:_M')\n",
    "soup = BeautifulSoup(req.text, \"html.parser\")\n",
    "\n",
    "postal_table = soup.find('table', {\"class\" : \"wikitable sortable\"})\n",
    "\n",
    "for row in postal_table.find_all('tr'):\n",
    "    cols = row.find_all('td')\n",
    "    if len(cols) == 3:\n",
    "        postal_codes_array.append((cols[0].text.strip(), cols[1].text.strip(), cols[2].text.strip()))\n",
    "\n",
    "df = pd.DataFrame(postal_codes)\n",
    "df.columns = ['PostalCode', 'Borough','Neighbourhood']\n",
    "df = df[df.Borough != 'Not assigned']\n",
    "df = df.groupby(['PostalCode','Borough'])['Neighbourhood'].apply(','.join)\n",
    "df = df.reset_index()\n",
    "df.loc[df['Neighbourhood'] == \"Not assigned\", 'Neighbourhood'] = df['Borough']"
   ]
  },
  {
   "cell_type": "code",
   "execution_count": 34,
   "metadata": {},
   "outputs": [
    {
     "data": {
      "text/plain": [
       "(103, 3)"
      ]
     },
     "execution_count": 34,
     "metadata": {},
     "output_type": "execute_result"
    }
   ],
   "source": [
    "df.shape"
   ]
  }
 ],
 "metadata": {
  "kernelspec": {
   "display_name": "Python 3",
   "language": "python",
   "name": "python3"
  },
  "language_info": {
   "codemirror_mode": {
    "name": "ipython",
    "version": 3
   },
   "file_extension": ".py",
   "mimetype": "text/x-python",
   "name": "python",
   "nbconvert_exporter": "python",
   "pygments_lexer": "ipython3",
   "version": "3.6.8"
  }
 },
 "nbformat": 4,
 "nbformat_minor": 2
}
